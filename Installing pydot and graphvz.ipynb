{
 "cells": [
  {
   "cell_type": "code",
   "execution_count": 1,
   "id": "fdfa323e",
   "metadata": {},
   "outputs": [
    {
     "name": "stdout",
     "output_type": "stream",
     "text": [
      "Collecting pydot\n",
      "  Downloading pydot-1.4.2-py2.py3-none-any.whl (21 kB)\n",
      "Requirement already satisfied: pyparsing>=2.1.4 in c:\\users\\sudhanshu\\anaconda3\\lib\\site-packages (from pydot) (3.0.9)\n",
      "Installing collected packages: pydot\n",
      "Successfully installed pydot-1.4.2\n",
      "Note: you may need to restart the kernel to use updated packages.\n"
     ]
    }
   ],
   "source": [
    "pip install pydot"
   ]
  },
  {
   "cell_type": "code",
   "execution_count": 2,
   "id": "4274e224",
   "metadata": {},
   "outputs": [
    {
     "name": "stdout",
     "output_type": "stream",
     "text": [
      "Collecting pydotplus\n",
      "  Downloading pydotplus-2.0.2.tar.gz (278 kB)\n",
      "     ---------------------------------------- 0.0/278.7 kB ? eta -:--:--\n",
      "     - -------------------------------------- 10.2/278.7 kB ? eta -:--:--\n",
      "     ---- -------------------------------- 30.7/278.7 kB 217.9 kB/s eta 0:00:02\n",
      "     ---- -------------------------------- 30.7/278.7 kB 217.9 kB/s eta 0:00:02\n",
      "     ----- ------------------------------- 41.0/278.7 kB 178.6 kB/s eta 0:00:02\n",
      "     -------- ---------------------------- 61.4/278.7 kB 218.8 kB/s eta 0:00:01\n",
      "     -------- ---------------------------- 61.4/278.7 kB 218.8 kB/s eta 0:00:01\n",
      "     -------- ---------------------------- 61.4/278.7 kB 218.8 kB/s eta 0:00:01\n",
      "     -------- ---------------------------- 61.4/278.7 kB 218.8 kB/s eta 0:00:01\n",
      "     ------------ ------------------------ 92.2/278.7 kB 210.1 kB/s eta 0:00:01\n",
      "     ------------ ------------------------ 92.2/278.7 kB 210.1 kB/s eta 0:00:01\n",
      "     ------------ ------------------------ 92.2/278.7 kB 210.1 kB/s eta 0:00:01\n",
      "     ------------ ------------------------ 92.2/278.7 kB 210.1 kB/s eta 0:00:01\n",
      "     ------------ ------------------------ 92.2/278.7 kB 210.1 kB/s eta 0:00:01\n",
      "     ------------ ------------------------ 92.2/278.7 kB 210.1 kB/s eta 0:00:01\n",
      "     --------------- -------------------- 122.9/278.7 kB 160.2 kB/s eta 0:00:01\n",
      "     --------------- -------------------- 122.9/278.7 kB 160.2 kB/s eta 0:00:01\n",
      "     --------------- -------------------- 122.9/278.7 kB 160.2 kB/s eta 0:00:01\n",
      "     --------------- -------------------- 122.9/278.7 kB 160.2 kB/s eta 0:00:01\n",
      "     --------------- -------------------- 122.9/278.7 kB 160.2 kB/s eta 0:00:01\n",
      "     ------------------ ----------------- 143.4/278.7 kB 146.9 kB/s eta 0:00:01\n",
      "     ------------------ ----------------- 143.4/278.7 kB 146.9 kB/s eta 0:00:01\n",
      "     ------------------ ----------------- 143.4/278.7 kB 146.9 kB/s eta 0:00:01\n",
      "     ------------------ ----------------- 143.4/278.7 kB 146.9 kB/s eta 0:00:01\n",
      "     ------------------- ---------------- 153.6/278.7 kB 129.3 kB/s eta 0:00:01\n",
      "     ------------------- ---------------- 153.6/278.7 kB 129.3 kB/s eta 0:00:01\n",
      "     ---------------------- ------------- 174.1/278.7 kB 139.8 kB/s eta 0:00:01\n",
      "     ---------------------- ------------- 174.1/278.7 kB 139.8 kB/s eta 0:00:01\n",
      "     ---------------------- ------------- 174.1/278.7 kB 139.8 kB/s eta 0:00:01\n",
      "     ------------------------- ---------- 194.6/278.7 kB 140.5 kB/s eta 0:00:01\n",
      "     ------------------------- ---------- 194.6/278.7 kB 140.5 kB/s eta 0:00:01\n",
      "     -------------------------- --------- 204.8/278.7 kB 136.8 kB/s eta 0:00:01\n",
      "     -------------------------- --------- 204.8/278.7 kB 136.8 kB/s eta 0:00:01\n",
      "     -------------------------- --------- 204.8/278.7 kB 136.8 kB/s eta 0:00:01\n",
      "     -------------------------- --------- 204.8/278.7 kB 136.8 kB/s eta 0:00:01\n",
      "     ------------------------------ ----- 235.5/278.7 kB 138.6 kB/s eta 0:00:01\n",
      "     ------------------------------ ----- 235.5/278.7 kB 138.6 kB/s eta 0:00:01\n",
      "     ------------------------------ ----- 235.5/278.7 kB 138.6 kB/s eta 0:00:01\n",
      "     ------------------------------ ----- 235.5/278.7 kB 138.6 kB/s eta 0:00:01\n",
      "     ------------------------------ ----- 235.5/278.7 kB 138.6 kB/s eta 0:00:01\n",
      "     ------------------------------ ----- 235.5/278.7 kB 138.6 kB/s eta 0:00:01\n",
      "     ------------------------------ ----- 235.5/278.7 kB 138.6 kB/s eta 0:00:01\n",
      "     ------------------------------------ 278.7/278.7 kB 137.4 kB/s eta 0:00:00\n",
      "  Preparing metadata (setup.py): started\n",
      "  Preparing metadata (setup.py): finished with status 'done'\n",
      "Requirement already satisfied: pyparsing>=2.0.1 in c:\\users\\sudhanshu\\anaconda3\\lib\\site-packages (from pydotplus) (3.0.9)\n",
      "Building wheels for collected packages: pydotplus\n",
      "  Building wheel for pydotplus (setup.py): started\n",
      "  Building wheel for pydotplus (setup.py): finished with status 'done'\n",
      "  Created wheel for pydotplus: filename=pydotplus-2.0.2-py3-none-any.whl size=24578 sha256=178ba2f167982e4b254ef18a3243fa50f3d2384560fc647e038f6eb6d1679819\n",
      "  Stored in directory: c:\\users\\sudhanshu\\appdata\\local\\pip\\cache\\wheels\\89\\e5\\de\\6966007cf223872eedfbebbe0e074534e72e9128c8fd4b55eb\n",
      "Successfully built pydotplus\n",
      "Installing collected packages: pydotplus\n",
      "Successfully installed pydotplus-2.0.2\n",
      "Note: you may need to restart the kernel to use updated packages.\n"
     ]
    }
   ],
   "source": [
    "pip install pydotplus"
   ]
  },
  {
   "cell_type": "code",
   "execution_count": null,
   "id": "ee3915d8",
   "metadata": {},
   "outputs": [],
   "source": []
  }
 ],
 "metadata": {
  "kernelspec": {
   "display_name": "Python 3 (ipykernel)",
   "language": "python",
   "name": "python3"
  },
  "language_info": {
   "codemirror_mode": {
    "name": "ipython",
    "version": 3
   },
   "file_extension": ".py",
   "mimetype": "text/x-python",
   "name": "python",
   "nbconvert_exporter": "python",
   "pygments_lexer": "ipython3",
   "version": "3.9.17"
  }
 },
 "nbformat": 4,
 "nbformat_minor": 5
}
