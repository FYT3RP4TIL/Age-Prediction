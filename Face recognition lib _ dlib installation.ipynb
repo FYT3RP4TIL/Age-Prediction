{
 "cells": [
  {
   "cell_type": "code",
   "execution_count": 1,
   "id": "39e41130",
   "metadata": {},
   "outputs": [
    {
     "name": "stdout",
     "output_type": "stream",
     "text": [
      "Collecting cmakeNote: you may need to restart the kernel to use updated packages.\n",
      "\n",
      "  Obtaining dependency information for cmake from https://files.pythonhosted.org/packages/e0/67/3cc8ccb0cebac463033e1f8588328de32f8f85cfd9d3150c05b57b827893/cmake-3.27.4.1-py2.py3-none-win_amd64.whl.metadata\n",
      "  Downloading cmake-3.27.4.1-py2.py3-none-win_amd64.whl.metadata (6.8 kB)\n",
      "Using cached cmake-3.27.4.1-py2.py3-none-win_amd64.whl (34.6 MB)\n",
      "Installing collected packages: cmake\n",
      "Successfully installed cmake-3.27.4.1\n"
     ]
    }
   ],
   "source": [
    "pip install cmake\n"
   ]
  },
  {
   "cell_type": "code",
   "execution_count": 2,
   "id": "0b4cb1d3",
   "metadata": {},
   "outputs": [
    {
     "name": "stdout",
     "output_type": "stream",
     "text": [
      "Collecting dlib\n",
      "  Using cached dlib-19.24.2.tar.gz (11.8 MB)\n",
      "  Installing build dependencies: started\n",
      "  Installing build dependencies: finished with status 'done'\n",
      "  Getting requirements to build wheel: started\n",
      "  Getting requirements to build wheel: finished with status 'done'\n",
      "  Preparing metadata (pyproject.toml): started\n",
      "  Preparing metadata (pyproject.toml): finished with status 'done'\n",
      "Building wheels for collected packages: dlib\n",
      "  Building wheel for dlib (pyproject.toml): started\n",
      "  Building wheel for dlib (pyproject.toml): finished with status 'error'\n",
      "Failed to build dlib\n",
      "Note: you may need to restart the kernel to use updated packages.\n"
     ]
    },
    {
     "name": "stderr",
     "output_type": "stream",
     "text": [
      "  error: subprocess-exited-with-error\n",
      "  \n",
      "  Building wheel for dlib (pyproject.toml) did not run successfully.\n",
      "  exit code: 1\n",
      "  \n",
      "  [73 lines of output]\n",
      "  running bdist_wheel\n",
      "  running build\n",
      "  running build_ext\n",
      "  <string>:125: DeprecationWarning: distutils Version classes are deprecated. Use packaging.version instead.\n",
      "  Building extension for Python 3.9.17 (main, Jul  5 2023, 20:47:11) [MSC v.1916 64 bit (AMD64)]\n",
      "  Invoking CMake setup: 'cmake C:\\Users\\SUDHANSHU\\AppData\\Local\\Temp\\pip-install-4dbmuumw\\dlib_f2d166dc6d4c48739c605c4763e379b4\\tools\\python -DCMAKE_LIBRARY_OUTPUT_DIRECTORY=C:\\Users\\SUDHANSHU\\AppData\\Local\\Temp\\pip-install-4dbmuumw\\dlib_f2d166dc6d4c48739c605c4763e379b4\\build\\lib.win-amd64-cpython-39 -DPYTHON_EXECUTABLE=C:\\Users\\SUDHANSHU\\anaconda3\\python.exe -DCMAKE_LIBRARY_OUTPUT_DIRECTORY_RELEASE=C:\\Users\\SUDHANSHU\\AppData\\Local\\Temp\\pip-install-4dbmuumw\\dlib_f2d166dc6d4c48739c605c4763e379b4\\build\\lib.win-amd64-cpython-39 -A x64'\n",
      "  -- Building for: NMake Makefiles\n",
      "  CMake Error at CMakeLists.txt:5 (message):\n",
      "  \n",
      "  \n",
      "  \n",
      "    !!!!!!!!!!!!!!!!!!!!!!!!!!!!!!!!!!!!!!!!!!!!!!!!!!!!!!!!!!!!!!!!!!!!!!!!!!!!!!!\n",
      "  \n",
      "  \n",
      "    You must use Visual Studio to build a python extension on windows.  If you\n",
      "    are getting this error it means you have not installed Visual C++.  Note\n",
      "    that there are many flavors of Visual Studio, like Visual Studio for C#\n",
      "    development.  You need to install Visual Studio for C++.\n",
      "  \n",
      "  \n",
      "    !!!!!!!!!!!!!!!!!!!!!!!!!!!!!!!!!!!!!!!!!!!!!!!!!!!!!!!!!!!!!!!!!!!!!!!!!!!!!!!\n",
      "  \n",
      "  \n",
      "  \n",
      "  \n",
      "  -- Configuring incomplete, errors occurred!\n",
      "  Traceback (most recent call last):\n",
      "    File \"C:\\Users\\SUDHANSHU\\anaconda3\\lib\\site-packages\\pip\\_vendor\\pyproject_hooks\\_in_process\\_in_process.py\", line 353, in <module>\n",
      "      main()\n",
      "    File \"C:\\Users\\SUDHANSHU\\anaconda3\\lib\\site-packages\\pip\\_vendor\\pyproject_hooks\\_in_process\\_in_process.py\", line 335, in main\n",
      "      json_out['return_val'] = hook(**hook_input['kwargs'])\n",
      "    File \"C:\\Users\\SUDHANSHU\\anaconda3\\lib\\site-packages\\pip\\_vendor\\pyproject_hooks\\_in_process\\_in_process.py\", line 251, in build_wheel\n",
      "      return _build_backend().build_wheel(wheel_directory, config_settings,\n",
      "    File \"C:\\Users\\SUDHANSHU\\AppData\\Local\\Temp\\pip-build-env-rvidbrpr\\overlay\\Lib\\site-packages\\setuptools\\build_meta.py\", line 434, in build_wheel\n",
      "      return self._build_with_temp_dir(\n",
      "    File \"C:\\Users\\SUDHANSHU\\AppData\\Local\\Temp\\pip-build-env-rvidbrpr\\overlay\\Lib\\site-packages\\setuptools\\build_meta.py\", line 419, in _build_with_temp_dir\n",
      "      self.run_setup()\n",
      "    File \"C:\\Users\\SUDHANSHU\\AppData\\Local\\Temp\\pip-build-env-rvidbrpr\\overlay\\Lib\\site-packages\\setuptools\\build_meta.py\", line 341, in run_setup\n",
      "      exec(code, locals())\n",
      "    File \"<string>\", line 218, in <module>\n",
      "    File \"C:\\Users\\SUDHANSHU\\AppData\\Local\\Temp\\pip-build-env-rvidbrpr\\overlay\\Lib\\site-packages\\setuptools\\__init__.py\", line 103, in setup\n",
      "      return distutils.core.setup(**attrs)\n",
      "    File \"C:\\Users\\SUDHANSHU\\AppData\\Local\\Temp\\pip-build-env-rvidbrpr\\overlay\\Lib\\site-packages\\setuptools\\_distutils\\core.py\", line 185, in setup\n",
      "      return run_commands(dist)\n",
      "    File \"C:\\Users\\SUDHANSHU\\AppData\\Local\\Temp\\pip-build-env-rvidbrpr\\overlay\\Lib\\site-packages\\setuptools\\_distutils\\core.py\", line 201, in run_commands\n",
      "      dist.run_commands()\n",
      "    File \"C:\\Users\\SUDHANSHU\\AppData\\Local\\Temp\\pip-build-env-rvidbrpr\\overlay\\Lib\\site-packages\\setuptools\\_distutils\\dist.py\", line 969, in run_commands\n",
      "      self.run_command(cmd)\n",
      "    File \"C:\\Users\\SUDHANSHU\\AppData\\Local\\Temp\\pip-build-env-rvidbrpr\\overlay\\Lib\\site-packages\\setuptools\\dist.py\", line 1001, in run_command\n",
      "      super().run_command(command)\n",
      "    File \"C:\\Users\\SUDHANSHU\\AppData\\Local\\Temp\\pip-build-env-rvidbrpr\\overlay\\Lib\\site-packages\\setuptools\\_distutils\\dist.py\", line 988, in run_command\n",
      "      cmd_obj.run()\n",
      "    File \"C:\\Users\\SUDHANSHU\\AppData\\Local\\Temp\\pip-build-env-rvidbrpr\\overlay\\Lib\\site-packages\\wheel\\bdist_wheel.py\", line 364, in run\n",
      "      self.run_command(\"build\")\n",
      "    File \"C:\\Users\\SUDHANSHU\\AppData\\Local\\Temp\\pip-build-env-rvidbrpr\\overlay\\Lib\\site-packages\\setuptools\\_distutils\\cmd.py\", line 318, in run_command\n",
      "      self.distribution.run_command(command)\n",
      "    File \"C:\\Users\\SUDHANSHU\\AppData\\Local\\Temp\\pip-build-env-rvidbrpr\\overlay\\Lib\\site-packages\\setuptools\\dist.py\", line 1001, in run_command\n",
      "      super().run_command(command)\n",
      "    File \"C:\\Users\\SUDHANSHU\\AppData\\Local\\Temp\\pip-build-env-rvidbrpr\\overlay\\Lib\\site-packages\\setuptools\\_distutils\\dist.py\", line 988, in run_command\n",
      "      cmd_obj.run()\n",
      "    File \"C:\\Users\\SUDHANSHU\\AppData\\Local\\Temp\\pip-build-env-rvidbrpr\\overlay\\Lib\\site-packages\\setuptools\\_distutils\\command\\build.py\", line 131, in run\n",
      "      self.run_command(cmd_name)\n",
      "    File \"C:\\Users\\SUDHANSHU\\AppData\\Local\\Temp\\pip-build-env-rvidbrpr\\overlay\\Lib\\site-packages\\setuptools\\_distutils\\cmd.py\", line 318, in run_command\n",
      "      self.distribution.run_command(command)\n",
      "    File \"C:\\Users\\SUDHANSHU\\AppData\\Local\\Temp\\pip-build-env-rvidbrpr\\overlay\\Lib\\site-packages\\setuptools\\dist.py\", line 1001, in run_command\n",
      "      super().run_command(command)\n",
      "    File \"C:\\Users\\SUDHANSHU\\AppData\\Local\\Temp\\pip-build-env-rvidbrpr\\overlay\\Lib\\site-packages\\setuptools\\_distutils\\dist.py\", line 988, in run_command\n",
      "      cmd_obj.run()\n",
      "    File \"<string>\", line 130, in run\n",
      "    File \"<string>\", line 167, in build_extension\n",
      "    File \"C:\\Users\\SUDHANSHU\\anaconda3\\lib\\subprocess.py\", line 373, in check_call\n",
      "      raise CalledProcessError(retcode, cmd)\n",
      "  subprocess.CalledProcessError: Command '['cmake', 'C:\\\\Users\\\\SUDHANSHU\\\\AppData\\\\Local\\\\Temp\\\\pip-install-4dbmuumw\\\\dlib_f2d166dc6d4c48739c605c4763e379b4\\\\tools\\\\python', '-DCMAKE_LIBRARY_OUTPUT_DIRECTORY=C:\\\\Users\\\\SUDHANSHU\\\\AppData\\\\Local\\\\Temp\\\\pip-install-4dbmuumw\\\\dlib_f2d166dc6d4c48739c605c4763e379b4\\\\build\\\\lib.win-amd64-cpython-39', '-DPYTHON_EXECUTABLE=C:\\\\Users\\\\SUDHANSHU\\\\anaconda3\\\\python.exe', '-DCMAKE_LIBRARY_OUTPUT_DIRECTORY_RELEASE=C:\\\\Users\\\\SUDHANSHU\\\\AppData\\\\Local\\\\Temp\\\\pip-install-4dbmuumw\\\\dlib_f2d166dc6d4c48739c605c4763e379b4\\\\build\\\\lib.win-amd64-cpython-39', '-A', 'x64']' returned non-zero exit status 1.\n",
      "  [end of output]\n",
      "  \n",
      "  note: This error originates from a subprocess, and is likely not a problem with pip.\n",
      "  ERROR: Failed building wheel for dlib\n",
      "ERROR: Could not build wheels for dlib, which is required to install pyproject.toml-based projects\n"
     ]
    }
   ],
   "source": [
    "pip install dlib\n"
   ]
  },
  {
   "cell_type": "code",
   "execution_count": 4,
   "id": "421dad93",
   "metadata": {},
   "outputs": [
    {
     "name": "stdout",
     "output_type": "stream",
     "text": [
      "Microsoft Windows [Version 10.0.25941.1000]\n",
      "(c) Microsoft Corporation. All rights reserved.\n",
      "\n",
      "(base) C:\\Users\\SUDHANSHU>\n",
      "(base) C:\\Users\\SUDHANSHU>python --version\n",
      "Python 3.9.17\n",
      "\n",
      "(base) C:\\Users\\SUDHANSHU>"
     ]
    }
   ],
   "source": [
    "%%cmd\n",
    "\n",
    "python --version\n"
   ]
  },
  {
   "cell_type": "code",
   "execution_count": 5,
   "id": "8ab6726a",
   "metadata": {
    "scrolled": false
   },
   "outputs": [
    {
     "name": "stdout",
     "output_type": "stream",
     "text": [
      "Collecting dlib\n",
      "  Using cached dlib-19.24.2.tar.gz (11.8 MB)\n",
      "  Installing build dependencies: started\n",
      "  Installing build dependencies: finished with status 'done'\n",
      "  Getting requirements to build wheel: started\n",
      "  Getting requirements to build wheel: finished with status 'done'\n",
      "  Preparing metadata (pyproject.toml): started\n",
      "  Preparing metadata (pyproject.toml): finished with status 'done'\n",
      "Building wheels for collected packages: dlib\n",
      "  Building wheel for dlib (pyproject.toml): started\n",
      "  Building wheel for dlib (pyproject.toml): finished with status 'error'\n",
      "Failed to build dlib\n",
      "Note: you may need to restart the kernel to use updated packages.\n"
     ]
    },
    {
     "name": "stderr",
     "output_type": "stream",
     "text": [
      "  error: subprocess-exited-with-error\n",
      "  \n",
      "  Building wheel for dlib (pyproject.toml) did not run successfully.\n",
      "  exit code: 1\n",
      "  \n",
      "  [73 lines of output]\n",
      "  running bdist_wheel\n",
      "  running build\n",
      "  running build_ext\n",
      "  <string>:125: DeprecationWarning: distutils Version classes are deprecated. Use packaging.version instead.\n",
      "  Building extension for Python 3.9.17 (main, Jul  5 2023, 20:47:11) [MSC v.1916 64 bit (AMD64)]\n",
      "  Invoking CMake setup: 'cmake C:\\Users\\SUDHANSHU\\AppData\\Local\\Temp\\pip-install-9e9c8kmu\\dlib_ee3007a343854704a18df5e41b4569ac\\tools\\python -DCMAKE_LIBRARY_OUTPUT_DIRECTORY=C:\\Users\\SUDHANSHU\\AppData\\Local\\Temp\\pip-install-9e9c8kmu\\dlib_ee3007a343854704a18df5e41b4569ac\\build\\lib.win-amd64-cpython-39 -DPYTHON_EXECUTABLE=C:\\Users\\SUDHANSHU\\anaconda3\\python.exe -DCMAKE_LIBRARY_OUTPUT_DIRECTORY_RELEASE=C:\\Users\\SUDHANSHU\\AppData\\Local\\Temp\\pip-install-9e9c8kmu\\dlib_ee3007a343854704a18df5e41b4569ac\\build\\lib.win-amd64-cpython-39 -A x64'\n",
      "  -- Building for: NMake Makefiles\n",
      "  CMake Error at CMakeLists.txt:5 (message):\n",
      "  \n",
      "  \n",
      "  \n",
      "    !!!!!!!!!!!!!!!!!!!!!!!!!!!!!!!!!!!!!!!!!!!!!!!!!!!!!!!!!!!!!!!!!!!!!!!!!!!!!!!\n",
      "  \n",
      "  \n",
      "    You must use Visual Studio to build a python extension on windows.  If you\n",
      "    are getting this error it means you have not installed Visual C++.  Note\n",
      "    that there are many flavors of Visual Studio, like Visual Studio for C#\n",
      "    development.  You need to install Visual Studio for C++.\n",
      "  \n",
      "  \n",
      "    !!!!!!!!!!!!!!!!!!!!!!!!!!!!!!!!!!!!!!!!!!!!!!!!!!!!!!!!!!!!!!!!!!!!!!!!!!!!!!!\n",
      "  \n",
      "  \n",
      "  \n",
      "  \n",
      "  -- Configuring incomplete, errors occurred!\n",
      "  Traceback (most recent call last):\n",
      "    File \"C:\\Users\\SUDHANSHU\\anaconda3\\lib\\site-packages\\pip\\_vendor\\pyproject_hooks\\_in_process\\_in_process.py\", line 353, in <module>\n",
      "      main()\n",
      "    File \"C:\\Users\\SUDHANSHU\\anaconda3\\lib\\site-packages\\pip\\_vendor\\pyproject_hooks\\_in_process\\_in_process.py\", line 335, in main\n",
      "      json_out['return_val'] = hook(**hook_input['kwargs'])\n",
      "    File \"C:\\Users\\SUDHANSHU\\anaconda3\\lib\\site-packages\\pip\\_vendor\\pyproject_hooks\\_in_process\\_in_process.py\", line 251, in build_wheel\n",
      "      return _build_backend().build_wheel(wheel_directory, config_settings,\n",
      "    File \"C:\\Users\\SUDHANSHU\\AppData\\Local\\Temp\\pip-build-env-kec686_o\\overlay\\Lib\\site-packages\\setuptools\\build_meta.py\", line 434, in build_wheel\n",
      "      return self._build_with_temp_dir(\n",
      "    File \"C:\\Users\\SUDHANSHU\\AppData\\Local\\Temp\\pip-build-env-kec686_o\\overlay\\Lib\\site-packages\\setuptools\\build_meta.py\", line 419, in _build_with_temp_dir\n",
      "      self.run_setup()\n",
      "    File \"C:\\Users\\SUDHANSHU\\AppData\\Local\\Temp\\pip-build-env-kec686_o\\overlay\\Lib\\site-packages\\setuptools\\build_meta.py\", line 341, in run_setup\n",
      "      exec(code, locals())\n",
      "    File \"<string>\", line 218, in <module>\n",
      "    File \"C:\\Users\\SUDHANSHU\\AppData\\Local\\Temp\\pip-build-env-kec686_o\\overlay\\Lib\\site-packages\\setuptools\\__init__.py\", line 103, in setup\n",
      "      return distutils.core.setup(**attrs)\n",
      "    File \"C:\\Users\\SUDHANSHU\\AppData\\Local\\Temp\\pip-build-env-kec686_o\\overlay\\Lib\\site-packages\\setuptools\\_distutils\\core.py\", line 185, in setup\n",
      "      return run_commands(dist)\n",
      "    File \"C:\\Users\\SUDHANSHU\\AppData\\Local\\Temp\\pip-build-env-kec686_o\\overlay\\Lib\\site-packages\\setuptools\\_distutils\\core.py\", line 201, in run_commands\n",
      "      dist.run_commands()\n",
      "    File \"C:\\Users\\SUDHANSHU\\AppData\\Local\\Temp\\pip-build-env-kec686_o\\overlay\\Lib\\site-packages\\setuptools\\_distutils\\dist.py\", line 969, in run_commands\n",
      "      self.run_command(cmd)\n",
      "    File \"C:\\Users\\SUDHANSHU\\AppData\\Local\\Temp\\pip-build-env-kec686_o\\overlay\\Lib\\site-packages\\setuptools\\dist.py\", line 1001, in run_command\n",
      "      super().run_command(command)\n",
      "    File \"C:\\Users\\SUDHANSHU\\AppData\\Local\\Temp\\pip-build-env-kec686_o\\overlay\\Lib\\site-packages\\setuptools\\_distutils\\dist.py\", line 988, in run_command\n",
      "      cmd_obj.run()\n",
      "    File \"C:\\Users\\SUDHANSHU\\AppData\\Local\\Temp\\pip-build-env-kec686_o\\overlay\\Lib\\site-packages\\wheel\\bdist_wheel.py\", line 364, in run\n",
      "      self.run_command(\"build\")\n",
      "    File \"C:\\Users\\SUDHANSHU\\AppData\\Local\\Temp\\pip-build-env-kec686_o\\overlay\\Lib\\site-packages\\setuptools\\_distutils\\cmd.py\", line 318, in run_command\n",
      "      self.distribution.run_command(command)\n",
      "    File \"C:\\Users\\SUDHANSHU\\AppData\\Local\\Temp\\pip-build-env-kec686_o\\overlay\\Lib\\site-packages\\setuptools\\dist.py\", line 1001, in run_command\n",
      "      super().run_command(command)\n",
      "    File \"C:\\Users\\SUDHANSHU\\AppData\\Local\\Temp\\pip-build-env-kec686_o\\overlay\\Lib\\site-packages\\setuptools\\_distutils\\dist.py\", line 988, in run_command\n",
      "      cmd_obj.run()\n",
      "    File \"C:\\Users\\SUDHANSHU\\AppData\\Local\\Temp\\pip-build-env-kec686_o\\overlay\\Lib\\site-packages\\setuptools\\_distutils\\command\\build.py\", line 131, in run\n",
      "      self.run_command(cmd_name)\n",
      "    File \"C:\\Users\\SUDHANSHU\\AppData\\Local\\Temp\\pip-build-env-kec686_o\\overlay\\Lib\\site-packages\\setuptools\\_distutils\\cmd.py\", line 318, in run_command\n",
      "      self.distribution.run_command(command)\n",
      "    File \"C:\\Users\\SUDHANSHU\\AppData\\Local\\Temp\\pip-build-env-kec686_o\\overlay\\Lib\\site-packages\\setuptools\\dist.py\", line 1001, in run_command\n",
      "      super().run_command(command)\n",
      "    File \"C:\\Users\\SUDHANSHU\\AppData\\Local\\Temp\\pip-build-env-kec686_o\\overlay\\Lib\\site-packages\\setuptools\\_distutils\\dist.py\", line 988, in run_command\n",
      "      cmd_obj.run()\n",
      "    File \"<string>\", line 130, in run\n",
      "    File \"<string>\", line 167, in build_extension\n",
      "    File \"C:\\Users\\SUDHANSHU\\anaconda3\\lib\\subprocess.py\", line 373, in check_call\n",
      "      raise CalledProcessError(retcode, cmd)\n",
      "  subprocess.CalledProcessError: Command '['cmake', 'C:\\\\Users\\\\SUDHANSHU\\\\AppData\\\\Local\\\\Temp\\\\pip-install-9e9c8kmu\\\\dlib_ee3007a343854704a18df5e41b4569ac\\\\tools\\\\python', '-DCMAKE_LIBRARY_OUTPUT_DIRECTORY=C:\\\\Users\\\\SUDHANSHU\\\\AppData\\\\Local\\\\Temp\\\\pip-install-9e9c8kmu\\\\dlib_ee3007a343854704a18df5e41b4569ac\\\\build\\\\lib.win-amd64-cpython-39', '-DPYTHON_EXECUTABLE=C:\\\\Users\\\\SUDHANSHU\\\\anaconda3\\\\python.exe', '-DCMAKE_LIBRARY_OUTPUT_DIRECTORY_RELEASE=C:\\\\Users\\\\SUDHANSHU\\\\AppData\\\\Local\\\\Temp\\\\pip-install-9e9c8kmu\\\\dlib_ee3007a343854704a18df5e41b4569ac\\\\build\\\\lib.win-amd64-cpython-39', '-A', 'x64']' returned non-zero exit status 1.\n",
      "  [end of output]\n",
      "  \n",
      "  note: This error originates from a subprocess, and is likely not a problem with pip.\n",
      "  ERROR: Failed building wheel for dlib\n",
      "ERROR: Could not build wheels for dlib, which is required to install pyproject.toml-based projects\n"
     ]
    }
   ],
   "source": [
    "pip install dlib\n"
   ]
  },
  {
   "cell_type": "code",
   "execution_count": 6,
   "id": "47eb5e38",
   "metadata": {},
   "outputs": [
    {
     "name": "stdout",
     "output_type": "stream",
     "text": [
      "Microsoft Windows [Version 10.0.25941.1000]\n",
      "(c) Microsoft Corporation. All rights reserved.\n",
      "\n",
      "(base) C:\\Users\\SUDHANSHU>pip install \"\"C:\\Users\\SUDHANSHU\\Downloads\\dlib-19.22.99-cp39-cp39-win_amd64.whl\"\"\n",
      "Processing c:\\users\\sudhanshu\\downloads\\dlib-19.22.99-cp39-cp39-win_amd64.whl\n",
      "Installing collected packages: dlib\n",
      "Successfully installed dlib-19.22.99\n",
      "\n",
      "(base) C:\\Users\\SUDHANSHU>"
     ]
    }
   ],
   "source": [
    "%%cmd\n",
    "pip install \"\"C:\\Users\\SUDHANSHU\\Downloads\\dlib-19.22.99-cp39-cp39-win_amd64.whl\"\""
   ]
  },
  {
   "cell_type": "code",
   "execution_count": 7,
   "id": "53329ca1",
   "metadata": {},
   "outputs": [],
   "source": [
    "import dlib"
   ]
  },
  {
   "cell_type": "code",
   "execution_count": null,
   "id": "ebf04cc2",
   "metadata": {},
   "outputs": [],
   "source": []
  }
 ],
 "metadata": {
  "kernelspec": {
   "display_name": "Python 3 (ipykernel)",
   "language": "python",
   "name": "python3"
  },
  "language_info": {
   "codemirror_mode": {
    "name": "ipython",
    "version": 3
   },
   "file_extension": ".py",
   "mimetype": "text/x-python",
   "name": "python",
   "nbconvert_exporter": "python",
   "pygments_lexer": "ipython3",
   "version": "3.9.17"
  }
 },
 "nbformat": 4,
 "nbformat_minor": 5
}
